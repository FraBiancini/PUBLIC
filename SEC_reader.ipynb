{
 "cells": [
  {
   "cell_type": "markdown",
   "id": "f20729fe",
   "metadata": {},
   "source": [
    "Model Selection"
   ]
  },
  {
   "cell_type": "code",
   "execution_count": 20,
   "id": "d4f8a61c",
   "metadata": {},
   "outputs": [],
   "source": [
    "from typing import Optional, Literal\n",
    "from pydantic import BaseModel, Field\n",
    "from openai import OpenAI\n",
    "import os\n",
    "import logging\n",
    "\n",
    "\n",
    "client = OpenAI(api_key=os.getenv(\"OPENAI_API_KEY\"))\n",
    "model = \"gpt-4.1-nano-2025-04-14\"\n"
   ]
  },
  {
   "cell_type": "markdown",
   "id": "0150ca55",
   "metadata": {},
   "source": [
    "Class definition of the desired output"
   ]
  },
  {
   "cell_type": "code",
   "execution_count": 21,
   "id": "34082e13",
   "metadata": {},
   "outputs": [],
   "source": [
    "class Company_info(BaseModel):\n",
    "    \"\"\"First LLM call: Extract basic event information\"\"\"\n",
    "    CIK_code: str = Field(..., description=\"The 10-digit CIK code number.\")\n",
    "    company_name: str = Field(..., description=\"The name of the company.\")\n",
    "    description: str = Field(..., description=\"A brief description of the company.\")\n",
    "    brief_analysis: str = Field(..., description=\"A brief analysis of the company's recent SEC filings.\")\n",
    "\n",
    "class CIK_CODE(BaseModel):\n",
    "    CIK_code: str = Field(..., description=\"The 10-digit CIK code number.\")\n",
    "    warnings: str = Field(..., description=\"Warnings or notes about the CIK code retrieval process such as ambiguity or multiple matches.\")\n",
    "    "
   ]
  },
  {
   "cell_type": "markdown",
   "id": "a17bcf4b",
   "metadata": {},
   "source": [
    "Tool that given a CIK code get's SEC filing data"
   ]
  },
  {
   "cell_type": "code",
   "execution_count": 22,
   "id": "472b98ff",
   "metadata": {},
   "outputs": [],
   "source": [
    "import requests\n",
    "import json\n",
    "\n",
    "def get_SEC(CIK, headers):\n",
    "    response = requests.get(f\"https://data.sec.gov/submissions/CIK{CIK}.json\", headers=headers)\n",
    "    data = response.json()\n",
    "    \n",
    "    company_name = data.get(\"name\", \"Unknown\")\n",
    "    filings = data.get(\"filings\", {}).get(\"recent\", {})\n",
    "    \n",
    "    return {\n",
    "        \"CIK_code\": CIK,\n",
    "        \"company_name\": company_name,\n",
    "        \"filings\": filings\n",
    "    }\n",
    "\n"
   ]
  },
  {
   "cell_type": "code",
   "execution_count": null,
   "id": "797598fd",
   "metadata": {},
   "outputs": [],
   "source": [
    "Name=input(\"Insert the name of the user: \")"
   ]
  },
  {
   "cell_type": "code",
   "execution_count": null,
   "id": "9666e78d",
   "metadata": {},
   "outputs": [],
   "source": [
    "mail=input(\"Insert the email of the user: \")"
   ]
  },
  {
   "cell_type": "code",
   "execution_count": null,
   "id": "344e9605",
   "metadata": {},
   "outputs": [],
   "source": [
    "user_input=input(\"Insert the name of the company or the CIK code:\")"
   ]
  },
  {
   "cell_type": "code",
   "execution_count": 26,
   "id": "50110500",
   "metadata": {},
   "outputs": [],
   "source": [
    "headers = {\n",
    "    \"User-Agent\": \"MySecScraper/1.0 ({Name}; {mail})\"\n",
    "}\n"
   ]
  },
  {
   "cell_type": "code",
   "execution_count": 41,
   "id": "ad8fe3c5",
   "metadata": {},
   "outputs": [],
   "source": [
    "def get_CIK(user_input,headers) -> CIK_CODE:\n",
    "    \n",
    "    completion = client.beta.chat.completions.parse(\n",
    "        model=\"gpt-4.1-nano-2025-04-14\",\n",
    "        messages=[\n",
    "        {\"role\": \"system\", \"content\": \"given a name of a company, return its CIK code using the tool provided. If ambigous or multiple matches, return a warning message. Also in case of ambiguity, return the CIK code of the most relevant company.\"},\n",
    "        {\"role\": \"user\", \"content\": f\"{user_input}, {headers}\"},\n",
    "        ],\n",
    "        response_format=CIK_CODE\n",
    "        )\n",
    "    result = completion.choices[0].message.parsed\n",
    "\n",
    "    return result\n"
   ]
  },
  {
   "cell_type": "code",
   "execution_count": 42,
   "id": "6b0588d4",
   "metadata": {},
   "outputs": [],
   "source": [
    "def extract_company_info(user_input,headers) -> Company_info:\n",
    "    \n",
    "    Input_cik= get_CIK(user_input, headers)\n",
    "    \n",
    "    print(Input_cik.warnings)\n",
    "\n",
    "    SEC_INFO = get_SEC(Input_cik.CIK_code, headers)\n",
    "    \n",
    "    completion = client.beta.chat.completions.parse(\n",
    "        model=model,\n",
    "        messages=[\n",
    "            {\n",
    "                \"role\": \"system\",\n",
    "                \"content\": f\"Task: Extract company basics and recent filings summary (≤100 words) from this SEC JSON: CIK, company name, recent filings. Output: Factual sentences for financial reporting.\",\n",
    "            },\n",
    "            {\"role\": \"user\", \"content\": user_input},\n",
    "        ],\n",
    "        response_format=Company_info,\n",
    "    )\n",
    "    result = completion.choices[0].message.parsed\n",
    "\n",
    "    return result\n"
   ]
  },
  {
   "cell_type": "code",
   "execution_count": 46,
   "id": "1ade4439",
   "metadata": {},
   "outputs": [
    {
     "name": "stdout",
     "output_type": "stream",
     "text": [
      "\n"
     ]
    }
   ],
   "source": [
    "Comp_info= extract_company_info(user_input, headers)"
   ]
  },
  {
   "cell_type": "code",
   "execution_count": 47,
   "id": "d0590138",
   "metadata": {},
   "outputs": [
    {
     "name": "stdout",
     "output_type": "stream",
     "text": [
      "0000021344\n",
      "The Coca-Cola Company\n",
      "The Coca-Cola Company is a multinational corporation known for its production of nonalcoholic beverage concentrates and syrup.\n",
      "Recent SEC filings indicate the company maintains strong financial health with consistent revenue streams from global operations and ongoing investments in product innovation.\n"
     ]
    }
   ],
   "source": [
    "print(Comp_info.CIK_code)\n",
    "print(Comp_info.company_name)\n",
    "print(Comp_info.description)\n",
    "print(Comp_info.brief_analysis)"
   ]
  }
 ],
 "metadata": {
  "kernelspec": {
   "display_name": ".venv",
   "language": "python",
   "name": "python3"
  },
  "language_info": {
   "codemirror_mode": {
    "name": "ipython",
    "version": 3
   },
   "file_extension": ".py",
   "mimetype": "text/x-python",
   "name": "python",
   "nbconvert_exporter": "python",
   "pygments_lexer": "ipython3",
   "version": "3.13.2"
  }
 },
 "nbformat": 4,
 "nbformat_minor": 5
}
